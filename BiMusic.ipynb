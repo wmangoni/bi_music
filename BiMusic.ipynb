{
  "nbformat": 4,
  "nbformat_minor": 0,
  "metadata": {
    "colab": {
      "provenance": []
    },
    "kernelspec": {
      "name": "python3",
      "display_name": "Python 3"
    },
    "language_info": {
      "name": "python"
    }
  },
  "cells": [
    {
      "cell_type": "code",
      "source": [
        "!pip install scikit-learn"
      ],
      "metadata": {
        "id": "rtQzm8MD2_70"
      },
      "execution_count": null,
      "outputs": []
    },
    {
      "cell_type": "code",
      "source": [
        "!pip install dash"
      ],
      "metadata": {
        "id": "ftbA11UgSqIG"
      },
      "execution_count": null,
      "outputs": []
    },
    {
      "cell_type": "code",
      "source": [
        "!cd drive/MyDrive/Colab\\ Notebooks"
      ],
      "metadata": {
        "id": "GskT9sy9BW_F"
      },
      "execution_count": null,
      "outputs": []
    },
    {
      "cell_type": "code",
      "source": [
        "!sudo apt-get install texlive-full"
      ],
      "metadata": {
        "colab": {
          "base_uri": "https://localhost:8080/"
        },
        "id": "qxMwonAZB-7L",
        "outputId": "1088ad5d-4f34-44c4-a5b3-aaedb9c27760"
      },
      "execution_count": null,
      "outputs": [
        {
          "metadata": {
            "tags": null
          },
          "name": "stdout",
          "output_type": "stream",
          "text": []
        }
      ]
    },
    {
      "cell_type": "code",
      "source": [
        "import pandas as pd\n",
        "\n",
        "# Caminho para o arquivo CSV\n",
        "caminho_arquivo = '/content/bi_music.csv'\n",
        "\n",
        "# Ler o arquivo CSV usando o pandas\n",
        "df = pd.read_csv(caminho_arquivo, encoding='utf-8')\n",
        "\n",
        "# Visualizar as primeiras linhas do DataFrame para garantir que os dados foram carregados corretamente\n",
        "print(df.head())\n"
      ],
      "metadata": {
        "colab": {
          "base_uri": "https://localhost:8080/"
        },
        "id": "-Gh8UpQUQ00i",
        "outputId": "6890a3f8-9ad9-4176-c982-2ad14af65ea8"
      },
      "execution_count": null,
      "outputs": [
        {
          "output_type": "stream",
          "name": "stdout",
          "text": [
            "     Artist Genre                                             Lyrics  \\\n",
            "0  Zoe Wees   Pop  Control\\n \\nEarly in the morning \\nI still get...   \n",
            "1  Zoe Wees   Pop  Control\\n \\nEarly in the morning \\nI still get...   \n",
            "2  Zoe Wees   Pop  Girls Like Us\\n \\nIt’s hard for girls like us ...   \n",
            "3  Zoe Wees   Pop  Girls Like Us\\n \\nIt’s hard for girls like us ...   \n",
            "4  Zoe Wees   Pop  Hold Me Like You Used To\\n \\nCan you feel that...   \n",
            "\n",
            "                                              Chords  \n",
            "0                                                NaN  \n",
            "1  <html><h1>Control<h1><div><pre>[Intro] <b>Am</...  \n",
            "2  <html><h1>Control<h1><div><pre>[Intro] <b>Am</...  \n",
            "3  <html><h1>Girls Like Us<h1><div><pre>         ...  \n",
            "4  <html><h1>Girls Like Us<h1><div><pre>         ...  \n"
          ]
        }
      ]
    },
    {
      "cell_type": "code",
      "source": [
        "popularidade_generos = df['Genre'].value_counts()\n",
        "df2 = popularidade_generos.reset_index()\n",
        "df2.columns = ['Genre', 'Count']  # Renomeie as colunas\n",
        "print(df2)"
      ],
      "metadata": {
        "id": "sezmD8YaT2mi"
      },
      "execution_count": null,
      "outputs": []
    },
    {
      "cell_type": "code",
      "source": [
        "import dash\n",
        "from dash import dcc, html\n",
        "import plotly.express as px\n",
        "\n",
        "df['comprimento_letra'] = df['Lyrics'].str.len()\n",
        "df['ocorrencias_amor_love'] = df['Lyrics'].str.count('amor|love')\n",
        "\n",
        "# Inicializar o aplicativo Dash\n",
        "app = dash.Dash(__name__)\n",
        "\n",
        "# Criar o layout do aplicativo\n",
        "app.layout = html.Div([\n",
        "    html.H1(\"Análise de Gênero Musical\"),\n",
        "\n",
        "    dcc.Graph(\n",
        "        id='genre-counts',\n",
        "        figure=px.bar(df2, x=df2['Genre'], y=df2['Count'], labels={'x':'Genre', 'y':'Count'}, title='Count of Songs by Genre')\n",
        "    ),\n",
        "\n",
        "    dcc.Graph(\n",
        "        id='amor-love-counts',\n",
        "        figure=px.violin(df, x='ocorrencias_amor_love', y='Genre', box=True, points=\"outliers\", title='Ocorrência da palavra amor ou love por gênero')\n",
        "    ),\n",
        "\n",
        "    dcc.Graph(\n",
        "        id='lyrics-length-violinplot',\n",
        "        figure=px.violin(df, x='comprimento_letra', y='Genre', box=True, points=\"all\", title='Tamanho da letra por gênero')\n",
        "    ),\n",
        "\n",
        "    dcc.Graph(\n",
        "        id='lyrics-length-artist-violinplot',\n",
        "        figure=px.violin(df, x='comprimento_letra', y='Artist', box=True, points=\"all\", title='Tamanho da letra por artista')\n",
        "    ),\n",
        "\n",
        "    dcc.Graph(\n",
        "        id='amor-love-by-genre',\n",
        "        figure=px.scatter(df, x='comprimento_letra', y='ocorrencias_amor_love', title='Ocorrência amor_love por tamanho da letra')\n",
        "    ),\n",
        "\n",
        "    dcc.Graph(\n",
        "        id='amor-love-by-artist',\n",
        "        figure=px.scatter(df, x='comprimento_letra', y='Artist', title='Ocorrência amor_love por artista')\n",
        "    )\n",
        "])\n",
        "\n",
        "# Executar o aplicativo\n",
        "if __name__ == '__main__':\n",
        "    app.run_server(debug=True)\n"
      ],
      "metadata": {
        "colab": {
          "base_uri": "https://localhost:8080/",
          "height": 671
        },
        "id": "BjtmHV9GSjNj",
        "outputId": "d3b4f708-2d9c-4429-d900-d10945422820"
      },
      "execution_count": 6,
      "outputs": [
        {
          "output_type": "display_data",
          "data": {
            "text/plain": [
              "<IPython.core.display.Javascript object>"
            ],
            "application/javascript": [
              "(async (port, path, width, height, cache, element) => {\n",
              "    if (!google.colab.kernel.accessAllowed && !cache) {\n",
              "      return;\n",
              "    }\n",
              "    element.appendChild(document.createTextNode(''));\n",
              "    const url = await google.colab.kernel.proxyPort(port, {cache});\n",
              "    const iframe = document.createElement('iframe');\n",
              "    iframe.src = new URL(path, url).toString();\n",
              "    iframe.height = height;\n",
              "    iframe.width = width;\n",
              "    iframe.style.border = 0;\n",
              "    iframe.allow = [\n",
              "        'accelerometer',\n",
              "        'autoplay',\n",
              "        'camera',\n",
              "        'clipboard-read',\n",
              "        'clipboard-write',\n",
              "        'gyroscope',\n",
              "        'magnetometer',\n",
              "        'microphone',\n",
              "        'serial',\n",
              "        'usb',\n",
              "        'xr-spatial-tracking',\n",
              "    ].join('; ');\n",
              "    element.appendChild(iframe);\n",
              "  })(8050, \"/\", \"100%\", 650, false, window.element)"
            ]
          },
          "metadata": {}
        }
      ]
    },
    {
      "cell_type": "code",
      "source": [
        "print(df2)"
      ],
      "metadata": {
        "colab": {
          "base_uri": "https://localhost:8080/"
        },
        "id": "h0JvRs1Z2DdX",
        "outputId": "5f8b876a-03ee-420e-f220-9f5edfd3150e"
      },
      "execution_count": null,
      "outputs": [
        {
          "output_type": "stream",
          "name": "stdout",
          "text": [
            "Genre\n",
            "Brega          41\n",
            "Soul           41\n",
            "Hard Rock      41\n",
            "Sertanejo      39\n",
            "Hip Hop/Rap    33\n",
            "Name: count, dtype: int64\n"
          ]
        }
      ]
    },
    {
      "cell_type": "code",
      "source": [
        "# Filtrar as linhas onde a contagem da palavra \"amor\" ou \"love\" é igual a um valor específico\n",
        "contagem_especifica = 36  # Altere este valor para a contagem específica desejada\n",
        "df_resultado = df[df['ocorrencias_amor_love'] == contagem_especifica]\n",
        "\n",
        "# Agora df_resultado contém as letras das músicas que têm a contagem específica da palavra \"amor\" ou \"love\"\n",
        "print(df_resultado['Lyrics'])\n",
        "# Supondo que df_resultado seja o DataFrame que contém as letras das músicas com a contagem específica da palavra \"amor\" ou \"love\"\n",
        "\n",
        "# Supondo também que você queira gravar as letras em um arquivo de texto chamado \"letras.txt\"\n",
        "with open(\"letras.txt\", \"w\", encoding=\"utf-8\") as file:\n",
        "    for letra in df_resultado['Lyrics']:\n",
        "        file.write(letra + \"\\n---------------------------------------\\n\")  # Adicione uma linha entre as letras para separá-las\n"
      ],
      "metadata": {
        "colab": {
          "base_uri": "https://localhost:8080/"
        },
        "id": "834hp3fxy2Qy",
        "outputId": "a631c602-5528-456e-9220-0fa913c104da"
      },
      "execution_count": 14,
      "outputs": [
        {
          "output_type": "stream",
          "name": "stdout",
          "text": [
            "21      Lonely\\n \\nIt’s gonna be la, la, la, la, la, l...\n",
            "1494    Volta Amor\\n \\nAndei pensando em nós dois \\nHá...\n",
            "3965    Músicas Que Eu Gostaria de Ter Feito\\n \\nPor q...\n",
            "Name: Lyrics, dtype: object\n"
          ]
        }
      ]
    },
    {
      "cell_type": "code",
      "source": [
        "df.groupby(['Artist', 'Genre']).size()"
      ],
      "metadata": {
        "colab": {
          "base_uri": "https://localhost:8080/"
        },
        "id": "20z1TJjI3JT7",
        "outputId": "a361d77f-4f48-4037-c1df-480295a45cf9"
      },
      "execution_count": null,
      "outputs": [
        {
          "output_type": "execute_result",
          "data": {
            "text/plain": [
              "Artist                                        Genre              \n",
              "Diddy (P. Diddy / Puff Daddy / Brother Love)  Hip Hop/Rap            22\n",
              "Eagles                                        Rock and Roll          41\n",
              "Grupo Pixote                                  Pagode                 36\n",
              "Grupo Revelação                               Pagode                 39\n",
              "LUDMILLA                                      Funk                   31\n",
              "                                                                     ..\n",
              "Zé Vaqueiro                                   Piseiro                32\n",
              "Zé Vicente                                    Gospel/Religioso       33\n",
              "Zélia Duncan                                  MPB                    35\n",
              "wave to earth                                 Alternativo / Indie    23\n",
              "xikers                                        K-Pop                  21\n",
              "Length: 465, dtype: int64"
            ]
          },
          "metadata": {},
          "execution_count": 28
        }
      ]
    },
    {
      "source": [
        "from matplotlib import pyplot as plt\n",
        "df.plot(kind='scatter', x='comprimento_letra', y='ocorrencias_amor_love', s=32, alpha=.8)\n",
        "plt.gca().spines[['top', 'right',]].set_visible(False)"
      ],
      "cell_type": "code",
      "metadata": {
        "id": "15tOFRuBdml3"
      },
      "execution_count": null,
      "outputs": []
    },
    {
      "source": [
        "figsize = (12, 1.2 * len(df['Genre'].unique()))\n",
        "plt.figure(figsize=figsize)\n",
        "sns.violinplot(df, x='comprimento_letra', y='Genre', inner='stick', palette='Dark2')\n",
        "sns.despine(top=True, right=True, bottom=True, left=True)"
      ],
      "cell_type": "code",
      "metadata": {
        "id": "t58ZKhprL2kH"
      },
      "execution_count": null,
      "outputs": []
    },
    {
      "source": [
        "figsize = (12, 1.2 * len(df['Artist'].unique()))\n",
        "plt.figure(figsize=figsize)\n",
        "sns.violinplot(df, x='comprimento_letra', y='Artist', inner='stick', palette='Dark2')\n",
        "sns.despine(top=True, right=True, bottom=True, left=True)"
      ],
      "cell_type": "code",
      "metadata": {
        "id": "MsDCs6DgLv3s"
      },
      "execution_count": null,
      "outputs": []
    },
    {
      "source": [
        "df['comprimento_letra'].plot(kind='hist', bins=20, title='comprimento_letra')\n",
        "plt.gca().spines[['top', 'right',]].set_visible(False)"
      ],
      "cell_type": "code",
      "metadata": {
        "id": "f8Y1XSdtLUfg"
      },
      "execution_count": null,
      "outputs": []
    },
    {
      "cell_type": "code",
      "source": [
        "from matplotlib import pyplot as plt\n",
        "import seaborn as sns\n",
        "\n",
        "# Contabilizar a quantidade de vezes que as palavras \"amor\" ou \"love\" aparecem em cada música\n",
        "df['ocorrencias_amor_love'] = df['Lyrics'].str.count('amor|love')\n",
        "\n",
        "# Definir o tamanho da figura\n",
        "figsize = (12, 1.2 * len(df['Genre'].unique()))\n",
        "\n",
        "# Criar o gráfico de violino\n",
        "plt.figure(figsize=figsize)\n",
        "sns.violinplot(data=df, x='ocorrencias_amor_love', y='Genre', inner='stick', palette='Dark2')\n",
        "\n",
        "# Remover bordas do gráfico\n",
        "sns.despine(top=True, right=True, bottom=True, left=True)\n",
        "\n",
        "# Mostrar o gráfico\n",
        "plt.show()\n"
      ],
      "metadata": {
        "id": "pBRSPMD9MsOc"
      },
      "execution_count": null,
      "outputs": []
    },
    {
      "cell_type": "code",
      "source": [
        "from sklearn.feature_extraction.text import CountVectorizer\n",
        "\n",
        "# Criar uma matriz de frequência de palavras\n",
        "vectorizer = CountVectorizer()\n",
        "X = vectorizer.fit_transform(df['Lyrics'])\n",
        "\n",
        "# Obter as palavras mais comuns\n",
        "palavras_comuns = pd.DataFrame(X.toarray(), columns=vectorizer.get_feature_names_out()).sum().sort_values(ascending=False)\n",
        "\n",
        "# Visualizar as palavras mais comuns\n",
        "print(palavras_comuns.head(10))"
      ],
      "metadata": {
        "id": "tjR_G2DhzE41"
      },
      "execution_count": null,
      "outputs": []
    },
    {
      "cell_type": "code",
      "source": [
        "import re\n",
        "\n",
        "# Função para contar palavras entre as tags <b> e </b>\n",
        "def contar_palavras_b(texto):\n",
        "    # Encontrar todas as palavras entre as tags <b> e </b> usando expressão regular\n",
        "    palavras = re.findall(r'<b>(.*?)</b>', texto)\n",
        "    # Contar a ocorrência de cada palavra e retornar o resultado como um dicionário\n",
        "    contador = {}\n",
        "    for palavra in palavras:\n",
        "        contador[palavra] = contador.get(palavra, 0) + 1\n",
        "    return contador\n",
        "\n",
        "# Aplicar a função contar_palavras_b à coluna \"chord\" e expandir o resultado em um DataFrame\n",
        "contagem_palavras = df['Chords'].apply(contar_palavras_b).apply(pd.Series).fillna(0).astype(int)\n",
        "\n",
        "# Exibir o DataFrame resultante\n",
        "print(contagem_palavras)"
      ],
      "metadata": {
        "colab": {
          "base_uri": "https://localhost:8080/"
        },
        "id": "W-NRq8epPrfl",
        "outputId": "54a3730b-1067-4f88-bb23-f6fc70b81ec0"
      },
      "execution_count": null,
      "outputs": [
        {
          "output_type": "stream",
          "name": "stdout",
          "text": [
            "      E   A   B  C#m  E7   G   D  C  A7  F  ...  F#m7/5-  G7sus  E4  D4  B9  \\\n",
            "0     0   0   0    0   0   0   0  0   0  0  ...        0      0   0   0   0   \n",
            "1    23  16  19    5   0   0   0  0   0  0  ...        0      0   0   0   0   \n",
            "2    23  16  19    5   0   0   0  0   0  0  ...        0      0   0   0   0   \n",
            "3    15  10  16    0   2   0   0  0   0  0  ...        0      0   0   0   0   \n",
            "4    15  10  16    0   2   0   0  0   0  0  ...        0      0   0   0   0   \n",
            "..   ..  ..  ..  ...  ..  ..  .. ..  .. ..  ...      ...    ...  ..  ..  ..   \n",
            "190  20  13   0    8   0   3   0  0   0  0  ...        0      0   0   0  13   \n",
            "191   0   0   0    0   0  30   1  3   4  3  ...        0      0   0  13   0   \n",
            "192  27  27   0    2   0   8  41  0   0  0  ...        0      0   0   0   0   \n",
            "193  27  27   0    2   0   8  41  0   0  0  ...        0      0   0   0   0   \n",
            "194  27  27   0    2   0   8  41  0   0  0  ...        0      0   0   0   0   \n",
            "\n",
            "     F6(9)  F2  D9(11)  D6(9/11)  D6(9)  \n",
            "0        0   0       0         0      0  \n",
            "1        0   0       0         0      0  \n",
            "2        0   0       0         0      0  \n",
            "3        0   0       0         0      0  \n",
            "4        0   0       0         0      0  \n",
            "..     ...  ..     ...       ...    ...  \n",
            "190      0   0       0         0      0  \n",
            "191     27   4      13         1      1  \n",
            "192      0   0       0         0      0  \n",
            "193      0   0       0         0      0  \n",
            "194      0   0       0         0      0  \n",
            "\n",
            "[195 rows x 177 columns]\n"
          ]
        }
      ]
    },
    {
      "cell_type": "code",
      "source": [
        "import matplotlib.pyplot as plt\n",
        "\n",
        "# Obter o top 20 das contagens totais de palavras\n",
        "top_20_contagem_total = contagem_total.sort_values(ascending=False).head(20)\n",
        "\n",
        "# Plotar um gráfico de barras do top 20 das contagens totais de palavras\n",
        "plt.figure(figsize=(10, 6))\n",
        "top_20_contagem_total.plot(kind='bar', color='skyblue')\n",
        "plt.title('Top 20 da Contagem Total de acordes')\n",
        "plt.xlabel('Acorde')\n",
        "plt.ylabel('Contagem')\n",
        "plt.xticks(rotation=45, ha='right')\n",
        "plt.tight_layout()\n",
        "plt.show()\n"
      ],
      "metadata": {
        "id": "hs5u4H2_P8lp"
      },
      "execution_count": null,
      "outputs": []
    },
    {
      "cell_type": "code",
      "source": [
        "import nltk\n",
        "nltk.download('vader_lexicon')"
      ],
      "metadata": {
        "id": "9mJdCt8M2ljC"
      },
      "execution_count": null,
      "outputs": []
    },
    {
      "cell_type": "code",
      "source": [
        "import os\n",
        "from sklearn.feature_extraction.text import TfidfVectorizer\n",
        "from sklearn.cluster import KMeans\n",
        "from nltk.sentiment.vader import SentimentIntensityAnalyzer\n",
        "\n",
        "\n",
        "# Função para ler todos os arquivos de texto em um diretório\n",
        "def ler_arquivos_texto(diretorio):\n",
        "    textos = []\n",
        "    for arquivo in os.listdir(diretorio):\n",
        "        print(arquivo)\n",
        "        if arquivo.endswith(\".txt\"):\n",
        "            with open(os.path.join(diretorio, arquivo), \"r\", encoding=\"utf-8\") as f:\n",
        "                sia = SentimentIntensityAnalyzer()\n",
        "                t = f.read()\n",
        "                sentiment_score = sia.polarity_scores(t)\n",
        "                print(sentiment_score)\n",
        "                textos.append(t)\n",
        "\n",
        "    return textos\n",
        "\n",
        "# Diretório onde os arquivos de texto estão localizados\n",
        "diretorio = \"/content/aerosmith/\"\n",
        "\n",
        "# Ler os arquivos de texto\n",
        "textos = ler_arquivos_texto(diretorio)\n",
        "\n",
        "# Vetorização dos textos usando TF-IDF\n",
        "vectorizer = TfidfVectorizer(stop_words='english')\n",
        "X = vectorizer.fit_transform(textos)\n",
        "\n",
        "# Execução do algoritmo KMeans\n",
        "kmeans = KMeans(n_clusters=3)\n",
        "kmeans.fit(X)\n",
        "\n",
        "# Exibir os clusters e suas palavras-chave\n",
        "print(\"Palavras-chave dos clusters:\")\n",
        "order_centroids = kmeans.cluster_centers_.argsort()[:, ::-1]\n",
        "terms = vectorizer.get_feature_names_out()\n",
        "for i in range(3):  # Altere o número de clusters conforme necessário\n",
        "    print(\"Cluster %d:\" % i)\n",
        "    for ind in order_centroids[i, :10]:  # Altere o número de palavras-chave exibidas conforme necessário\n",
        "        print(' %s' % terms[ind])\n"
      ],
      "metadata": {
        "id": "GrdhgM2l4KyJ"
      },
      "execution_count": null,
      "outputs": []
    }
  ]
}